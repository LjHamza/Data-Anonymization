{
 "cells": [
  {
   "cell_type": "code",
   "execution_count": 1,
   "metadata": {},
   "outputs": [],
   "source": [
    "import pandas as pd\n",
    "import numpy as np"
   ]
  },
  {
   "cell_type": "code",
   "execution_count": 2,
   "metadata": {},
   "outputs": [
    {
     "name": "stdout",
     "output_type": "stream",
     "text": [
      "        id  age     sex     bmi  children smoker     region      charges\n",
      "0        0   19  female  27.900         0    yes  southwest  16884.92400\n",
      "1        1   18    male  33.770         1     no  southeast   1725.55230\n",
      "2        2   28    male  33.000         3     no  southeast   4449.46200\n",
      "3        3   33    male  22.705         0     no  northwest  21984.47061\n",
      "4        4   32    male  28.880         0     no  northwest   3866.85520\n",
      "...    ...  ...     ...     ...       ...    ...        ...          ...\n",
      "1333  1333   50    male  30.970         3     no  northwest  10600.54830\n",
      "1334  1334   18  female  31.920         0     no  northeast   2205.98080\n",
      "1335  1335   18  female  36.850         0     no  southeast   1629.83350\n",
      "1336  1336   21  female  25.800         0     no  southwest   2007.94500\n",
      "1337  1337   61  female  29.070         0    yes  northwest  29141.36030\n",
      "\n",
      "[1338 rows x 8 columns]\n"
     ]
    }
   ],
   "source": [
    "dfi = pd.read_csv(\"data_init.csv\")\n",
    "print(dfi)"
   ]
  },
  {
   "cell_type": "code",
   "execution_count": 3,
   "metadata": {},
   "outputs": [
    {
     "name": "stdout",
     "output_type": "stream",
     "text": [
      "0          0\n",
      "1          1\n",
      "2          2\n",
      "3          3\n",
      "4          4\n",
      "        ... \n",
      "1333    1333\n",
      "1334    1334\n",
      "1335    1335\n",
      "1336    1336\n",
      "1337    1337\n",
      "Name: id, Length: 1338, dtype: int64\n"
     ]
    }
   ],
   "source": [
    "dft_join = dfi[\"id\"]\n",
    "print(dft_join)"
   ]
  },
  {
   "cell_type": "code",
   "execution_count": 4,
   "metadata": {},
   "outputs": [
    {
     "name": "stdout",
     "output_type": "stream",
     "text": [
      "        id  age     sex    bmi  children smoker     region      charges\n",
      "940    940   18    male  23.21         0     no  southeast   1121.87390\n",
      "808    808   18    male  30.14         0     no  southeast   1131.50660\n",
      "1244  1244   18    male  33.33         0     no  southeast   1135.94070\n",
      "663    663   18    male  33.66         0     no  southeast   1136.39940\n",
      "22      22   18    male  34.10         0     no  southeast   1137.01100\n",
      "...    ...  ...     ...    ...       ...    ...        ...          ...\n",
      "1241  1241   64    male  36.96         2    yes  southeast  49577.66240\n",
      "34      34   28    male  36.40         1    yes  southwest  51194.55914\n",
      "1146  1146   60    male  32.80         0    yes  southwest  52590.82939\n",
      "1300  1300   45    male  30.36         0    yes  southeast  62592.87309\n",
      "543    543   54  female  47.41         0    yes  southeast  63770.42801\n",
      "\n",
      "[689 rows x 8 columns]\n"
     ]
    }
   ],
   "source": [
    "dfiSouth = dfi[(dfi[\"region\"] == \"southwest\") | (dfi[\"region\"] == \"southeast\")]\n",
    "dfiSouth = dfiSouth.sort_values(by=[\"charges\"])\n",
    "dfiSouthYoung = dfiSouth[dfiSouth[\"age\"] < 31]\n",
    "dfiSouthMid = dfiSouth[(dfiSouth[\"age\"] < 46) & (dfiSouth[\"age\"] >= 31)]\n",
    "dfiSouthOld = dfiSouth[dfiSouth[\"age\"] >= 46]\n",
    "print(dfiSouth)"
   ]
  },
  {
   "cell_type": "code",
   "execution_count": 5,
   "metadata": {},
   "outputs": [
    {
     "name": "stdout",
     "output_type": "stream",
     "text": [
      "        id  age     sex     bmi  children smoker     region      charges\n",
      "410    410   19    male  17.480         0     no  northwest   1621.34020\n",
      "35      35   19    male  20.425         0     no  northwest   1625.43375\n",
      "747    747   19    male  21.755         0     no  northwest   1627.28245\n",
      "943    943   19    male  22.610         0     no  northwest   1628.47090\n",
      "464    464   19    male  25.175         0     no  northwest   1632.03625\n",
      "...    ...  ...     ...     ...       ...    ...        ...          ...\n",
      "330    330   61  female  36.385         1    yes  northeast  48517.56315\n",
      "281    281   54    male  40.565         3    yes  northeast  48549.17835\n",
      "819    819   33  female  35.530         0    yes  northwest  55135.40209\n",
      "577    577   31  female  38.095         1    yes  northeast  58571.07448\n",
      "1230  1230   52    male  34.485         3    yes  northwest  60021.39897\n",
      "\n",
      "[649 rows x 8 columns]\n"
     ]
    }
   ],
   "source": [
    "dfiNorth = dfi[(dfi[\"region\"] == \"northwest\") | (dfi[\"region\"] == \"northeast\")]\n",
    "dfiNorth = dfiNorth.sort_values(by=[\"charges\"])\n",
    "dfiNorthYoung = dfiNorth[dfiNorth[\"age\"] < 31]\n",
    "dfiNorthMid = dfiNorth[(dfiNorth[\"age\"] < 46) & (dfiNorth[\"age\"] >= 31)]\n",
    "dfiNorthOld = dfiNorth[dfiNorth[\"age\"] >= 46]\n",
    "print(dfiNorth)"
   ]
  },
  {
   "cell_type": "code",
   "execution_count": 6,
   "metadata": {},
   "outputs": [
    {
     "name": "stdout",
     "output_type": "stream",
     "text": [
      "        id  age     sex     bmi  children smoker     region      charges\n",
      "410    410   19    male  17.480         0     no  northwest   1621.34020\n",
      "35      35   19    male  20.425         0     no  northwest   1625.43375\n",
      "747    747   19    male  21.755         0     no  northwest   1627.28245\n",
      "943    943   19    male  22.610         0     no  northwest   1628.47090\n",
      "464    464   19    male  25.175         0     no  northwest   1632.03625\n",
      "...    ...  ...     ...     ...       ...    ...        ...          ...\n",
      "175    175   63  female  37.700         0    yes  southwest  48824.45000\n",
      "1062  1062   59    male  41.140         1    yes  southeast  48970.24760\n",
      "1241  1241   64    male  36.960         2    yes  southeast  49577.66240\n",
      "1146  1146   60    male  32.800         0    yes  southwest  52590.82939\n",
      "543    543   54  female  47.410         0    yes  southeast  63770.42801\n",
      "\n",
      "[1338 rows x 8 columns]\n"
     ]
    }
   ],
   "source": [
    "dfiNorthFinalS = pd.concat([dfiNorthYoung, dfiNorthMid, dfiNorthOld])\n",
    "dfiSouthFinalS = pd.concat([dfiSouthYoung, dfiSouthMid, dfiSouthOld])\n",
    "dfiFinalS = pd.concat([dfiNorthFinalS, dfiSouthFinalS])\n",
    "print(dfiFinalS)"
   ]
  },
  {
   "cell_type": "code",
   "execution_count": 7,
   "metadata": {},
   "outputs": [
    {
     "name": "stdout",
     "output_type": "stream",
     "text": [
      "      Unnamed: 0    id  age     sex        bmi  children smoker     region  \\\n",
      "0              0     0   21  female  23.555344         3     no  southwest   \n",
      "1              1     1   18    male  31.957964         0     no  southeast   \n",
      "2              2     2   28    male  32.088361         5     no  southeast   \n",
      "3              3     3   31  female  28.021057         2     no  northeast   \n",
      "4              4     4   31    male  29.355895         5     no  southwest   \n",
      "...          ...   ...  ...     ...        ...       ...    ...        ...   \n",
      "1333        1333  1333   49    male  26.907442         0     no  southwest   \n",
      "1334        1334  1334   27  female  30.896350         0    yes  northeast   \n",
      "1335        1335  1335   18  female  38.529267         5     no  northeast   \n",
      "1336        1336  1336   20  female  22.285817         0     no  northeast   \n",
      "1337        1337  1337   54  female  30.741534         0     no  northeast   \n",
      "\n",
      "          charges  \n",
      "0     16884.92400  \n",
      "1      1725.55230  \n",
      "2      4449.46200  \n",
      "3     21984.47061  \n",
      "4      3866.85520  \n",
      "...           ...  \n",
      "1333  10600.54830  \n",
      "1334   2205.98080  \n",
      "1335   1629.83350  \n",
      "1336   2007.94500  \n",
      "1337  29141.36030  \n",
      "\n",
      "[1338 rows x 9 columns]\n"
     ]
    }
   ],
   "source": [
    "dfa = pd.read_csv(\"anon.csv\")\n",
    "print(dfa)"
   ]
  },
  {
   "cell_type": "code",
   "execution_count": 15,
   "metadata": {},
   "outputs": [
    {
     "name": "stdout",
     "output_type": "stream",
     "text": [
      "Empty DataFrame\n",
      "Columns: [Unnamed: 0, id, age, sex, bmi, children, smoker, region, charges]\n",
      "Index: []\n"
     ]
    }
   ],
   "source": [
    "dfaSouth = dfa[(dfi[\"region\"] == \"southwest\") | (dfi[\"region\"] == \"southeast\")]\n",
    "dfaSouth = dfaSouth.sort_values(by=[\"charges\"])\n",
    "dfaSouthYoung = dfaSouth[dfaSouth[\"age\"] == 18]\n",
    "dfaSouthMid = dfaSouth[dfaSouth[\"age\"] == 31]\n",
    "dfaSouthOld = dfaSouth[dfaSouth[\"age\"] == 46]\n",
    "print(dfaSouth.head())"
   ]
  },
  {
   "cell_type": "code",
   "execution_count": 21,
   "metadata": {},
   "outputs": [
    {
     "name": "stdout",
     "output_type": "stream",
     "text": [
      "        id  age   sex        bmi  children smoker region  charges\n",
      "1195  1195   18  male  21.631821         0     no  North     1513\n",
      "972    972   18  male  35.930507         1     no  North     1519\n",
      "746    746   18  male  22.824294         1     no  North     1521\n",
      "84      84   18  male  30.940850         1     no  North     1547\n",
      "1190  1190   18  male  25.138428         0     no  North     1548\n"
     ]
    }
   ],
   "source": [
    "dfaNorth = dfa[(dfi[\"region\"] == \"northwest\") | (dfi[\"region\"] == \"northeast\")]\n",
    "dfaNorth = dfaNorth.sort_values(by=[\"charges\"])\n",
    "dfaNorthYoung = dfaNorth[dfaNorth[\"age\"] == 18]\n",
    "dfaNorthMid = dfaNorth[dfaNorth[\"age\"] == 31]\n",
    "dfaNorthOld = dfaNorth[dfaNorth[\"age\"] == 46]\n",
    "print(dfaNorthYoung.head())"
   ]
  },
  {
   "cell_type": "code",
   "execution_count": 22,
   "metadata": {},
   "outputs": [
    {
     "name": "stdout",
     "output_type": "stream",
     "text": [
      "        id  age   sex        bmi  children smoker region  charges\n",
      "1195  1195   18  male  21.631821         0     no  North     1513\n",
      "972    972   18  male  35.930507         1     no  North     1519\n",
      "746    746   18  male  22.824294         1     no  North     1521\n",
      "84      84   18  male  30.940850         1     no  North     1547\n",
      "1190  1190   18  male  25.138428         0     no  North     1548\n",
      "1132  1132   18  male  17.738495         1     no  North     1575\n",
      "374    374   18  male  25.129522         0     no  North     1581\n",
      "443    443   18  male  23.725217         0     no  North     1584\n",
      "1250  1250   18  male  28.299030         1     no  North     1625\n",
      "647    647   18  male  26.687029         1     no  North     1651\n",
      "734    734   18  male  31.131954         1     no  North     1651\n",
      "624    624   18  male  20.634265         0     no  North     1666\n",
      "573    573   18  male  16.471913         0     no  North     1678\n",
      "813    813   18  male  21.338097         1     no  North     1694\n",
      "1276  1276   18  male  28.254478         0     no  North     1712\n"
     ]
    }
   ],
   "source": [
    "dfaNorthFinalS = pd.concat([dfaNorthYoung, dfaNorthMid, dfaNorthOld])\n",
    "dfaSouthFinalS = pd.concat([dfaSouthYoung, dfaSouthMid, dfaSouthOld])\n",
    "dfaFinalS = pd.concat([dfaNorthFinalS, dfaSouthFinalS])\n",
    "print(dfaFinalS.head(15))"
   ]
  },
  {
   "cell_type": "code",
   "execution_count": 23,
   "metadata": {},
   "outputs": [
    {
     "name": "stdout",
     "output_type": "stream",
     "text": [
      "        id  age   sex     bmi  children smoker     region     charges\n",
      "410    410   19  male  17.480         0     no  northwest  1621.34020\n",
      "35      35   19  male  20.425         0     no  northwest  1625.43375\n",
      "747    747   19  male  21.755         0     no  northwest  1627.28245\n",
      "943    943   19  male  22.610         0     no  northwest  1628.47090\n",
      "464    464   19  male  25.175         0     no  northwest  1632.03625\n",
      "133    133   19  male  25.555         0     no  northwest  1632.56445\n",
      "349    349   19  male  27.835         0     no  northwest  1635.73365\n",
      "195    195   19  male  30.590         0     no  northwest  1639.56310\n",
      "581    581   19  male  30.590         0     no  northwest  1639.56310\n",
      "559    559   19  male  35.530         0     no  northwest  1646.42970\n",
      "172    172   18  male  15.960         0     no  northeast  1694.79640\n",
      "1212  1212   18  male  21.470         0     no  northeast  1702.45530\n",
      "295    295   18  male  22.990         0     no  northeast  1704.56810\n",
      "1041  1041   18  male  23.085         0     no  northeast  1704.70015\n",
      "121    121   18  male  23.750         0     no  northeast  1705.62450\n"
     ]
    }
   ],
   "source": [
    "print(dfiFinalS.head(15))"
   ]
  },
  {
   "cell_type": "code",
   "execution_count": 24,
   "metadata": {},
   "outputs": [
    {
     "name": "stdout",
     "output_type": "stream",
     "text": [
      "      Id Supposé Initial  Id Anonym\n",
      "0                    652          0\n",
      "1                      4          1\n",
      "2                   1323          2\n",
      "3                    843          3\n",
      "4                    604          4\n",
      "...                  ...        ...\n",
      "1333                 274       1333\n",
      "1334                 801       1334\n",
      "1335                  88       1335\n",
      "1336                 742       1336\n",
      "1337                 392       1337\n",
      "\n",
      "[1338 rows x 2 columns]\n"
     ]
    }
   ],
   "source": [
    "dfiIndexJoin = dfiFinalS.iloc[:, [0]]\n",
    "dfiIndexJoin = dfiIndexJoin.reset_index(drop=\"True\")\n",
    "dfaIndexJoin = dfaFinalS.iloc[:, [0]]\n",
    "dfaIndexJoin.columns = [\"Id Final\"]\n",
    "dfaIndexJoin = dfaIndexJoin.reset_index(drop=\"True\")\n",
    "dfIndexJoin = pd.concat([dfiIndexJoin, dfaIndexJoin], axis = 1) \n",
    "dfIndexJoin =dfIndexJoin.sort_values(by=\"Id Final\")\n",
    "dfIndexJoin.columns = [\"Id Supposé Initial\", \"Id Anonym\"]\n",
    "dfIndexJoin = dfIndexJoin.reset_index(drop=\"True\")\n",
    "print(dfIndexJoin)"
   ]
  },
  {
   "cell_type": "code",
   "execution_count": 25,
   "metadata": {},
   "outputs": [
    {
     "name": "stdout",
     "output_type": "stream",
     "text": [
      "      Id Initial  Id Anonym  Id Supp Initial  Match\n",
      "0            652          0              652   True\n",
      "1            519          1                4  False\n",
      "2           1323          2             1323   True\n",
      "3            843          3              843   True\n",
      "4            604          4              604   True\n",
      "...          ...        ...              ...    ...\n",
      "1333         972       1333              274  False\n",
      "1334         768       1334              801  False\n",
      "1335          88       1335               88   True\n",
      "1336         742       1336              742   True\n",
      "1337         744       1337              392  False\n",
      "\n",
      "[1338 rows x 4 columns]\n"
     ]
    }
   ],
   "source": [
    "dfIndex = pd.read_csv(\"index_join.csv\")\n",
    "dfIndex[\"Id Supp Initial\"] = dfIndexJoin[\"Id Supposé Initial\"]\n",
    "dfIndex[\"Match\"] = np.where(dfIndex[\"Id Initial\"] == dfIndex[\"Id Supp Initial\"], True, False)\n",
    "print(dfIndex)"
   ]
  },
  {
   "cell_type": "code",
   "execution_count": 26,
   "metadata": {},
   "outputs": [
    {
     "name": "stdout",
     "output_type": "stream",
     "text": [
      "0.30194319880418535\n"
     ]
    }
   ],
   "source": [
    "dfMatch = dfIndex[dfIndex[\"Match\"]== True]\n",
    "print(dfMatch.shape[0]/dfIndex.shape[0])"
   ]
  }
 ],
 "metadata": {
  "kernelspec": {
   "display_name": "Python 3",
   "language": "python",
   "name": "python3"
  },
  "language_info": {
   "codemirror_mode": {
    "name": "ipython",
    "version": 3
   },
   "file_extension": ".py",
   "mimetype": "text/x-python",
   "name": "python",
   "nbconvert_exporter": "python",
   "pygments_lexer": "ipython3",
   "version": "3.10.2"
  },
  "orig_nbformat": 4,
  "vscode": {
   "interpreter": {
    "hash": "09027da650f38ba7236ad064b542871ad48182107e90fa836c288587285bdc63"
   }
  }
 },
 "nbformat": 4,
 "nbformat_minor": 2
}
