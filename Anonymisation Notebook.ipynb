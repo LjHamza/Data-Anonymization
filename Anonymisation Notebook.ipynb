{
 "cells": [
  {
   "cell_type": "code",
   "execution_count": 1,
   "metadata": {},
   "outputs": [],
   "source": [
    "import pandas as pd\n",
    "import numpy as np\n",
    "import random as rd\n",
    "from random import randrange"
   ]
  },
  {
   "cell_type": "code",
   "execution_count": 2,
   "metadata": {},
   "outputs": [],
   "source": [
    "def regionGeneralyze(region):\n",
    "    if region[0] == \"s\":\n",
    "        return \"South\"\n",
    "    else:\n",
    "        return \"North\""
   ]
  },
  {
   "cell_type": "code",
   "execution_count": 3,
   "metadata": {},
   "outputs": [],
   "source": [
    "def ageGeneralyze(age):\n",
    "    if age <= 30:\n",
    "        return 18\n",
    "    elif age <= 45:\n",
    "        return 31\n",
    "    else:\n",
    "        return 46"
   ]
  },
  {
   "cell_type": "code",
   "execution_count": 4,
   "metadata": {},
   "outputs": [],
   "source": [
    "def randAge(age):\n",
    "    randNumb = randrange(0,2)\n",
    "    if randNumb == 0:\n",
    "        return age - randrange(0,3)\n",
    "    else:\n",
    "        return age + randrange(0,3)"
   ]
  },
  {
   "cell_type": "code",
   "execution_count": 5,
   "metadata": {},
   "outputs": [],
   "source": [
    "def randBmi(bmi):\n",
    "    randNumb = randrange(0,2)\n",
    "    if randNumb == 0:\n",
    "        return bmi - rd.uniform(0,0.56)\n",
    "    else:\n",
    "        return bmi + rd.uniform(0,0.57)"
   ]
  },
  {
   "cell_type": "code",
   "execution_count": 6,
   "metadata": {},
   "outputs": [],
   "source": [
    "def randChild(child):\n",
    "    randNumb = randrange(0,2)\n",
    "    if randNumb == 0 & child != 0:\n",
    "        return child - 1\n",
    "    elif randNumb == 1 & child != 5:\n",
    "        return child + 1\n",
    "    else:\n",
    "        return child"
   ]
  },
  {
   "cell_type": "code",
   "execution_count": 7,
   "metadata": {},
   "outputs": [],
   "source": [
    "def randCharges(charges):\n",
    "    randNumb = randrange(0,2)\n",
    "    if randNumb == 0:\n",
    "        return int(charges) - randrange(0,146)\n",
    "    else:\n",
    "        return int(charges) + randrange(0,173)"
   ]
  },
  {
   "cell_type": "code",
   "execution_count": 8,
   "metadata": {},
   "outputs": [
    {
     "name": "stdout",
     "output_type": "stream",
     "text": [
      "   age     sex     bmi  children smoker     region      charges\n",
      "0   19  female  27.900         0    yes  southwest  16884.92400\n",
      "1   18    male  33.770         1     no  southeast   1725.55230\n",
      "2   28    male  33.000         3     no  southeast   4449.46200\n",
      "3   33    male  22.705         0     no  northwest  21984.47061\n",
      "4   32    male  28.880         0     no  northwest   3866.85520\n"
     ]
    }
   ],
   "source": [
    "df = pd.read_csv(\"insurance.csv\")\n",
    "print(df.head())"
   ]
  },
  {
   "cell_type": "code",
   "execution_count": 9,
   "metadata": {},
   "outputs": [
    {
     "name": "stdout",
     "output_type": "stream",
     "text": [
      "        id  age     sex     bmi  children smoker     region      charges\n",
      "0        0   19  female  27.900         0    yes  southwest  16884.92400\n",
      "1        1   18    male  33.770         1     no  southeast   1725.55230\n",
      "2        2   28    male  33.000         3     no  southeast   4449.46200\n",
      "3        3   33    male  22.705         0     no  northwest  21984.47061\n",
      "4        4   32    male  28.880         0     no  northwest   3866.85520\n",
      "...    ...  ...     ...     ...       ...    ...        ...          ...\n",
      "1333  1333   50    male  30.970         3     no  northwest  10600.54830\n",
      "1334  1334   18  female  31.920         0     no  northeast   2205.98080\n",
      "1335  1335   18  female  36.850         0     no  southeast   1629.83350\n",
      "1336  1336   21  female  25.800         0     no  southwest   2007.94500\n",
      "1337  1337   61  female  29.070         0    yes  northwest  29141.36030\n",
      "\n",
      "[1338 rows x 8 columns]\n"
     ]
    }
   ],
   "source": [
    "df['id']=df.index\n",
    "df = df.iloc[:, [7,0,1,2,3,4,5,6]]\n",
    "print(df)\n",
    "df.to_csv(\"data_init.csv\", index=False)"
   ]
  },
  {
   "cell_type": "code",
   "execution_count": 10,
   "metadata": {},
   "outputs": [],
   "source": [
    "#Generalyze the region:\n",
    "df[\"region\"] = df[\"region\"].apply(lambda x: regionGeneralyze(x))\n",
    "#print(df.head())"
   ]
  },
  {
   "cell_type": "code",
   "execution_count": 11,
   "metadata": {},
   "outputs": [],
   "source": [
    "#Adding small random bmi\n",
    "df[\"bmi\"] = df[\"bmi\"].apply(lambda x: randBmi(x))\n",
    "#print(df)"
   ]
  },
  {
   "cell_type": "code",
   "execution_count": 12,
   "metadata": {},
   "outputs": [],
   "source": [
    "#Adding small random charges\n",
    "df[\"charges\"] = df[\"charges\"].apply(lambda x: randCharges(x))\n",
    "#print(df)"
   ]
  },
  {
   "cell_type": "code",
   "execution_count": 13,
   "metadata": {},
   "outputs": [],
   "source": [
    "#Generalyze Age\n",
    "df[\"age\"] = df[\"age\"].apply(lambda x: ageGeneralyze(x))\n",
    "#print(df)"
   ]
  },
  {
   "cell_type": "code",
   "execution_count": 14,
   "metadata": {},
   "outputs": [
    {
     "name": "stdout",
     "output_type": "stream",
     "text": [
      "        id  age     sex        bmi  children smoker region  charges\n",
      "0        0   18  female  27.499448         1    yes  South    16963\n",
      "1        1   18    male  33.666916         2     no  South     1884\n",
      "2        2   18    male  33.108737         3     no  South     4564\n",
      "3        3   31    male  22.568389         0     no  North    21866\n",
      "4        4   31    male  29.387700         0     no  North     3837\n",
      "...    ...  ...     ...        ...       ...    ...    ...      ...\n",
      "1333  1333   46    male  30.583009         4     no  North    10579\n",
      "1334  1334   18  female  31.685892         0     no  North     2112\n",
      "1335  1335   18  female  37.053536         0     no  South     1741\n",
      "1336  1336   18  female  25.982681         1     no  South     2115\n",
      "1337  1337   46  female  28.963476         0    yes  North    29194\n",
      "\n",
      "[1338 rows x 8 columns]\n"
     ]
    }
   ],
   "source": [
    "#Adding small random child\n",
    "df[\"children\"] = df[\"children\"].apply(lambda x: randChild(x))\n",
    "print(df)"
   ]
  },
  {
   "cell_type": "code",
   "execution_count": 15,
   "metadata": {},
   "outputs": [
    {
     "name": "stdout",
     "output_type": "stream",
     "text": [
      "        id  age     sex        bmi  children smoker region  charges\n",
      "0        0   18  female  40.015663         1     no  South     1629\n",
      "1        1   31    male  34.032814         4    yes  North    38625\n",
      "2        2   31  female  20.129531         1     no  North     5407\n",
      "3        3   31    male  36.099542         2    yes  South    38634\n",
      "4        4   18    male  33.108737         3     no  South     4564\n",
      "...    ...  ...     ...        ...       ...    ...    ...      ...\n",
      "1333  1333   18    male  29.475435         0    yes  South    18161\n",
      "1334  1334   18    male  18.816636         4     no  North     4785\n",
      "1335  1335   18  female  32.956057         1     no  South     1897\n",
      "1336  1336   46    male  26.058536         4     no  South    25944\n",
      "1337  1337   18  female  19.758183         3     no  North     5714\n",
      "\n",
      "[1338 rows x 8 columns]\n"
     ]
    }
   ],
   "source": [
    "df = df.sample(frac=1)\n",
    "df=df.reset_index()\n",
    "df[\"id\"]=df.index\n",
    "df_join = df.iloc[:, [0,1]]\n",
    "df_join.columns = [\"Id Initial\", \"Id Anonym\"]\n",
    "df = df.iloc[:, [1,2,3,4,5,6,7,8]]\n",
    "print(df)"
   ]
  },
  {
   "cell_type": "code",
   "execution_count": 16,
   "metadata": {},
   "outputs": [],
   "source": [
    "df.to_csv('insuranceAnno.csv', index=False)\n",
    "df_join.to_csv(\"index_join.csv\", index=False)"
   ]
  }
 ],
 "metadata": {
  "kernelspec": {
   "display_name": "Python 3.10.2 64-bit",
   "language": "python",
   "name": "python3"
  },
  "language_info": {
   "codemirror_mode": {
    "name": "ipython",
    "version": 3
   },
   "file_extension": ".py",
   "mimetype": "text/x-python",
   "name": "python",
   "nbconvert_exporter": "python",
   "pygments_lexer": "ipython3",
   "version": "3.10.2 (tags/v3.10.2:a58ebcc, Jan 17 2022, 14:12:15) [MSC v.1929 64 bit (AMD64)]"
  },
  "orig_nbformat": 4,
  "vscode": {
   "interpreter": {
    "hash": "09027da650f38ba7236ad064b542871ad48182107e90fa836c288587285bdc63"
   }
  }
 },
 "nbformat": 4,
 "nbformat_minor": 2
}
